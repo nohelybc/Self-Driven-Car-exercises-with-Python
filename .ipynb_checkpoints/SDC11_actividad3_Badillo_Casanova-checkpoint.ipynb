{
 "cells": [
  {
   "cell_type": "code",
   "execution_count": 2,
   "metadata": {
    "id": "ct0WOwHOfCYd"
   },
   "outputs": [],
   "source": [
    "import matplotlib.pyplot as plt\n",
    "import numpy as np\n",
    "import cv2 as cv"
   ]
  },
  {
   "cell_type": "markdown",
   "metadata": {
    "id": "zQ1_UP7UfIR3"
   },
   "source": [
    "# Actividad 3. Altos y semáforos en un video"
   ]
  },
  {
   "cell_type": "code",
   "execution_count": null,
   "metadata": {},
   "outputs": [],
   "source": [
    "# DOCUMENTACION ***\n",
    "# @des\n",
    "\n"
   ]
  },
  {
   "cell_type": "code",
   "execution_count": 3,
   "metadata": {
    "id": "CHu6fVDKfIqW"
   },
   "outputs": [],
   "source": [
    "# to do\n",
    "\n",
    "#Esta actividad realícela en un nuevo notebook\n",
    "#• Defina las funciones necesarias para detectar altos y semáforos. Para cada uno agregue su respectiva etiqueta\n",
    "#• Utilice la función time.sleep(3) para que cuando se detecte un alto (cualquiera de los dos que aparece) en un\n",
    "#área cercana a las llantas del automóvil, se realice una pausa de 3 segundos en el video (solo una vez).\n",
    "#• Utilice el video llamado altos_semaforos.mp4\n",
    "#• Agregar al final de su notebook una explicación detallada de como funciona su código y una conclusión del\n",
    "#ejercicio o puede explicarlo conforme avance en el notebook (con celdas definidas con Markdown)"
   ]
  },
  {
   "cell_type": "code",
   "execution_count": 4,
   "metadata": {},
   "outputs": [],
   "source": [
    "file = 'videos/altos_semaforos.mp4'"
   ]
  },
  {
   "cell_type": "code",
   "execution_count": 5,
   "metadata": {},
   "outputs": [],
   "source": [
    "#cascades\n",
    "stop_cascade = cv.CascadeClassifier('datos/stopsign_classifier.xml')"
   ]
  },
  {
   "cell_type": "markdown",
   "metadata": {},
   "source": [
    "## Funciones de tratamiento de imagen"
   ]
  },
  {
   "cell_type": "code",
   "execution_count": 6,
   "metadata": {},
   "outputs": [],
   "source": [
    "def hsv_convert(image):\n",
    "    return cv.cvtColor(image, cv.COLOR_BGR2HSV)"
   ]
  },
  {
   "cell_type": "code",
   "execution_count": null,
   "metadata": {},
   "outputs": [],
   "source": []
  },
  {
   "cell_type": "code",
   "execution_count": 7,
   "metadata": {},
   "outputs": [],
   "source": [
    "#definimos una función que retorne la mascara para el color verde\n",
    "def green_finder(image):\n",
    "    \n",
    "    lower_green = np.array([39,50,83])\n",
    "    upper_green = np.array([91,255,255])\n",
    "    \n",
    "    img_hsv = hsv_convert(image)\n",
    "    mask_green = cv.inRange(img_hsv, lower_green, upper_green)\n",
    "    \n",
    "    return mask_green"
   ]
  },
  {
   "cell_type": "code",
   "execution_count": 8,
   "metadata": {},
   "outputs": [],
   "source": [
    "#definimos una función que retorne la mascara para el color amarillo\n",
    "def yellow_finder(image):\n",
    "    \n",
    "    lower_green = np.array([42,73,44])\n",
    "    upper_green = np.array([100,255,255])\n",
    "\n",
    "    img_hsv = hsv_convert(image)\n",
    "    mask = cv.inRange(img_hsv, lower_green, upper_green)\n",
    "    mask_green = mask\n",
    "    \n",
    "    return mask_green"
   ]
  },
  {
   "cell_type": "code",
   "execution_count": 9,
   "metadata": {},
   "outputs": [],
   "source": [
    "#definimos una función que retorne la mascara para el color rojo\n",
    "def red_finder(image):#\n",
    "    lower_red1 = np.array([0,100,100])\n",
    "    upper_red1 = np.array([5,255,255])\n",
    "    lower_red2 = np.array([170,100,100])\n",
    "    upper_red2 = np.array([180,255,255])\n",
    "    \n",
    "    img_hsv = hsv_convert(image)#\n",
    "    \n",
    "    mask1 = cv.inRange(img_hsv, lower_red1, upper_red1)\n",
    "    mask2 = cv.inRange(img_hsv, lower_red2, upper_red2)\n",
    "    \n",
    "    mask_red = cv.add(mask1, mask2)\n",
    "    \n",
    "    return mask_red"
   ]
  },
  {
   "cell_type": "markdown",
   "metadata": {},
   "source": [
    "## Funciones para análisis"
   ]
  },
  {
   "cell_type": "markdown",
   "metadata": {},
   "source": [
    "### Altos"
   ]
  },
  {
   "cell_type": "code",
   "execution_count": 10,
   "metadata": {},
   "outputs": [],
   "source": [
    "def altos_printer(image):\n",
    "    #convertir a escala de grises la imagen\n",
    "    img_grey = cv.cvtColor(image, cv.COLOR_BGR2GRAY)\n",
    "    #encontrar personas en las imágnees\n",
    "    alto = stop_cascade.detectMultiScale(img_grey, 1.12, 5)\n",
    "\n",
    "    return alto\n",
    "    "
   ]
  },
  {
   "cell_type": "markdown",
   "metadata": {},
   "source": [
    "### Semaforos"
   ]
  },
  {
   "cell_type": "code",
   "execution_count": 11,
   "metadata": {},
   "outputs": [],
   "source": [
    "def circle_writer(original_image, name):\n",
    "\n",
    "    #counter solo sirve para ver cuantos circulos pasaron la prueba\n",
    "    counter = 0\n",
    "    circle_name = []\n",
    "    circle_values = []\n",
    "    circle_logical = []\n",
    "    global total_circles\n",
    "        \n",
    "    print('-----------------------------------------')\n",
    "    \n",
    "    #Encontrar la mascara\n",
    "    img_green_mask = green_finder(original_image)\n",
    "    \n",
    "    #Estética de escritura\n",
    "    font = cv.FONT_HERSHEY_SIMPLEX\n",
    "    region = 5\n",
    "    \n",
    "    #Circulos\n",
    "    green_circles = circle_finder(img_green_mask)\n",
    "\n",
    "    #Entra si existe un circulo\n",
    "    if green_circles is not None:\n",
    "        green_circles = np.uint16(np.around(green_circles))\n",
    "        \n",
    "        #Para cada circulo\n",
    "        for i in green_circles[0, :]:\n",
    "            pixel_value = 0.0\n",
    "            n = 0.0\n",
    "            check = False\n",
    "            \n",
    "            for j in range(-region, region):\n",
    "                for k in range(-region, region):\n",
    "                    pixel_value += img_green_mask[i[1]+j, i[0]+k]\n",
    "                    n += 1\n",
    "\n",
    "            \n",
    "            if pixel_value/n > 50:\n",
    "                cv.circle(original_image, (i[0], i[1]), i[2]+10, (0,255,0), 2)\n",
    "                cv.putText(original_image, 'Verde', (i[0]-i[2], i[1]-i[2]-10), font, 1, (0, 255, 0), 2, cv.LINE_AA)\n",
    "                counter += 1\n",
    "                check = True\n",
    "                \n",
    "            #Llenando los arrays\n",
    "            circle_name.append(name)\n",
    "            circle_values.append(pixel_value/n)\n",
    "            circle_logical.append(check)\n",
    "    \n",
    "    data = {'Imagen': circle_name, \n",
    "            'pixel_value/n': circle_values, \n",
    "            'Pass': circle_logical}\n",
    "    \n",
    "    circulos = pd.DataFrame(data)\n",
    "    print(circulos)\n",
    "    total_circles = pd.concat([total_circles, circulos], ignore_index=True)\n",
    "    \n",
    "    print('***** Valor mínimo:', circulos[circulos['Pass'] == True]['pixel_value/n'].min())\n",
    "    \n",
    "\n",
    "    return cv.cvtColor(original_image, cv.COLOR_BGR2RGB)"
   ]
  },
  {
   "cell_type": "code",
   "execution_count": null,
   "metadata": {},
   "outputs": [],
   "source": []
  },
  {
   "cell_type": "markdown",
   "metadata": {},
   "source": [
    "## Video"
   ]
  },
  {
   "cell_type": "code",
   "execution_count": 12,
   "metadata": {},
   "outputs": [
    {
     "ename": "AttributeError",
     "evalue": "'NoneType' object has no attribute 'shape'",
     "output_type": "error",
     "traceback": [
      "\u001b[0;31m---------------------------------------------------------------------------\u001b[0m",
      "\u001b[0;31mAttributeError\u001b[0m                            Traceback (most recent call last)",
      "\u001b[0;32m<ipython-input-12-cc5154992edd>\u001b[0m in \u001b[0;36m<module>\u001b[0;34m\u001b[0m\n\u001b[1;32m      4\u001b[0m \u001b[0;32mwhile\u001b[0m\u001b[0;34m(\u001b[0m\u001b[0mvideo\u001b[0m\u001b[0;34m.\u001b[0m\u001b[0misOpened\u001b[0m\u001b[0;34m(\u001b[0m\u001b[0;34m)\u001b[0m\u001b[0;34m)\u001b[0m\u001b[0;34m:\u001b[0m\u001b[0;34m\u001b[0m\u001b[0;34m\u001b[0m\u001b[0m\n\u001b[1;32m      5\u001b[0m     \u001b[0mret\u001b[0m\u001b[0;34m,\u001b[0m \u001b[0mframe\u001b[0m \u001b[0;34m=\u001b[0m \u001b[0mvideo\u001b[0m\u001b[0;34m.\u001b[0m\u001b[0mread\u001b[0m\u001b[0;34m(\u001b[0m\u001b[0;34m)\u001b[0m\u001b[0;34m\u001b[0m\u001b[0;34m\u001b[0m\u001b[0m\n\u001b[0;32m----> 6\u001b[0;31m     \u001b[0malto\u001b[0m \u001b[0;34m=\u001b[0m \u001b[0mframe\u001b[0m\u001b[0;34m.\u001b[0m\u001b[0mshape\u001b[0m\u001b[0;34m[\u001b[0m\u001b[0;36m0\u001b[0m\u001b[0;34m]\u001b[0m\u001b[0;34m\u001b[0m\u001b[0;34m\u001b[0m\u001b[0m\n\u001b[0m\u001b[1;32m      7\u001b[0m     \u001b[0mancho\u001b[0m \u001b[0;34m=\u001b[0m \u001b[0mframe\u001b[0m\u001b[0;34m.\u001b[0m\u001b[0mshape\u001b[0m\u001b[0;34m[\u001b[0m\u001b[0;36m1\u001b[0m\u001b[0;34m]\u001b[0m\u001b[0;34m\u001b[0m\u001b[0;34m\u001b[0m\u001b[0m\n\u001b[1;32m      8\u001b[0m     \u001b[0mratio\u001b[0m \u001b[0;34m=\u001b[0m \u001b[0;36m0.8\u001b[0m\u001b[0;34m\u001b[0m\u001b[0;34m\u001b[0m\u001b[0m\n",
      "\u001b[0;31mAttributeError\u001b[0m: 'NoneType' object has no attribute 'shape'"
     ]
    }
   ],
   "source": [
    "video = cv.VideoCapture(file)\n",
    "\n",
    "cv.startWindowThread()\n",
    "while(video.isOpened()):\n",
    "    ret, frame = video.read()\n",
    "    alto = frame.shape[0]\n",
    "    ancho = frame.shape[1]\n",
    "    ratio = 0.8\n",
    "    frame = cv.resize(frame, ( int(ancho*ratio) , int(alto*ratio) ), interpolation=cv.INTER_NEAREST )\n",
    "    #print(ret)\n",
    "    if ret:\n",
    "        #detección de altos\n",
    "        stop_detected = altos_printer(frame)\n",
    "        #show frames\n",
    "        for (x,y,w,h) in stop_detected:\n",
    "            cv.rectangle(frame,(x, y),(x+w, y+h), (0,0,255),2)\n",
    "            \n",
    "        cv.imshow(\"video\", frame)   \n",
    "        if cv.waitKey(1) & 0xFF == ord('q'):\n",
    "            print('q')\n",
    "            break\n",
    "            \n",
    "            \n",
    "            \n",
    "            \n",
    "            \n",
    "    else:\n",
    "        break\n",
    "\n",
    "cv.waitKey(5000)\n",
    "cv.destroyWindow('video_original')\n",
    "        \n",
    "cv.waitKey(1)\n",
    "\n",
    "cv.destroyAllWindows()\n",
    "\n",
    "video.release()\n",
    "\n",
    "cv.waitKey(1)"
   ]
  }
 ],
 "metadata": {
  "colab": {
   "authorship_tag": "ABX9TyOTGyb7/CZHEGuocipFRlKN",
   "name": "SDC11_actividad3_Badillo_Casanova.ipynb",
   "provenance": []
  },
  "kernelspec": {
   "display_name": "Python 3",
   "language": "python",
   "name": "python3"
  },
  "language_info": {
   "codemirror_mode": {
    "name": "ipython",
    "version": 3
   },
   "file_extension": ".py",
   "mimetype": "text/x-python",
   "name": "python",
   "nbconvert_exporter": "python",
   "pygments_lexer": "ipython3",
   "version": "3.8.5"
  }
 },
 "nbformat": 4,
 "nbformat_minor": 1
}
