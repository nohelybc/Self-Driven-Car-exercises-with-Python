{
 "cells": [
  {
   "cell_type": "markdown",
   "metadata": {
    "id": "pKn9IKV3fUMw"
   },
   "source": [
    "# Actividad 4. Dirección de giro, señales de alto, autos, personas y semáforos en un video"
   ]
  },
  {
   "cell_type": "markdown",
   "metadata": {
    "id": "6JCfzNWGfc8V"
   },
   "source": [
    "## Documentación"
   ]
  },
  {
   "cell_type": "markdown",
   "metadata": {},
   "source": [
    "## Librerias"
   ]
  },
  {
   "cell_type": "code",
   "execution_count": null,
   "metadata": {},
   "outputs": [],
   "source": [
    "import matplotlib.pyplot as plt\n",
    "import numpy as np\n",
    "import cv2 as cv\n",
    "import time"
   ]
  },
  {
   "cell_type": "markdown",
   "metadata": {},
   "source": [
    "## Variables globales"
   ]
  },
  {
   "cell_type": "code",
   "execution_count": 1,
   "metadata": {},
   "outputs": [],
   "source": [
    "filePath = \"videos/carretera_altos_peatones_automoviles.mp4\""
   ]
  },
  {
   "cell_type": "markdown",
   "metadata": {},
   "source": [
    "## Función para la detección del giro"
   ]
  },
  {
   "cell_type": "code",
   "execution_count": null,
   "metadata": {},
   "outputs": [],
   "source": [
    "def binarizacion(imagen):\n",
    "    img = cv.cvtColor(imagen, cv.COLOR_BGR2RGB)\n",
    "    img_gray = cv.cvtColor(img, cv.COLOR_BGR2GRAY)\n",
    "    img_gauss = cv.GaussianBlur(img_gray, (3, 3), 0)\n",
    "    thr, img_thr = cv.threshold(img_gauss, 160, 255, cv.THRESH_BINARY)\n",
    "    alto = img.shape[0]\n",
    "    ancho = img.shape[1]\n",
    "    ratio = 0.2\n",
    "    img_r = cv.resize(img_thr, (480, 240), interpolation = cv.INTER_NEAREST)\n",
    "    return(img_r)"
   ]
  },
  {
   "cell_type": "code",
   "execution_count": null,
   "metadata": {},
   "outputs": [],
   "source": [
    "#probar la binarizacion en una imagen del video\n",
    "img = cv.imread('figuras/imagen1_0.jpg')\n",
    "img_bin = binarizacion(img)\n",
    "fig, ax = plt.subplots(figsize = (14, 14))\n",
    "ax.imshow(img_bin, cmap = 'gray')\n",
    "ax.minorticks_on()\n",
    "ax.grid(which = 'major', linestyle = '-', linewidth = '0.9', color = 'red')\n",
    "ax.grid(which = 'minor', linestyle = ':', linewidth = '0.5', color = 'white')"
   ]
  },
  {
   "cell_type": "code",
   "execution_count": null,
   "metadata": {},
   "outputs": [],
   "source": [
    "#Poligono de área de interés\n",
    "x1 = (200, 40)\n",
    "x2 = (280, 40)\n",
    "x3 = (190, 50)\n",
    "x4 = (290, 50)\n",
    "\n",
    "pts_poligono = np.array([x1, x2, x3, x4], np.int32)\n",
    "pts_poligono = pts_poligono.reshape((-1, 1, 2))"
   ]
  },
  {
   "cell_type": "code",
   "execution_count": null,
   "metadata": {},
   "outputs": [],
   "source": [
    "def area_interes(imagen):\n",
    "    pts1 = np.float32([x1, x2, x3, x4])\n",
    "    pts2 = np.float32([[0, 0], [480, 0], [0, 240], [480, 240]])\n",
    "    matrix = cv.getPerspectiveTransform(pts1, pts2)\n",
    "    img_warp = cv.warpPerspective(imagen, matrix, (480, 240))\n",
    "    return (img_warp)"
   ]
  },
  {
   "cell_type": "code",
   "execution_count": null,
   "metadata": {},
   "outputs": [],
   "source": [
    "def punto_medio(imagen):\n",
    "    img_cercana = imagen[220:, :]\n",
    "    suma_columnas = img_cercana.sum(axis = 0)\n",
    "    x_pos = np.arange(len(suma_columnas))\n",
    "    mid_point = int(np.dot(x_pos, suma_columnas) / np.sum(suma_columnas))\n",
    "    return mid_point"
   ]
  },
  {
   "cell_type": "code",
   "execution_count": null,
   "metadata": {},
   "outputs": [],
   "source": [
    "imagen = 'figuras/imagen1_0.jpg'\n",
    "\n",
    "img = cv.imread(imagen)\n",
    "\n",
    "img_bin = binarizacion(img)\n",
    "img_interes = area_interes(img_bin)\n",
    "mid_point = punto_medio(img_interes)\n",
    "\n",
    "#textos\n",
    "text1 = str(0.50)\n",
    "text2 = str(0.50)\n",
    "text3 = 'direccion'\n",
    "\n",
    "#agregamos el tipo de fuente\n",
    "font = cv.FONT_HERSHEY_SIMPLEX\n",
    "\n",
    "#origen de cada texto\n",
    "org1 = (60, 185)\n",
    "org2 = (370, 185)\n",
    "org3 = (200, 100)\n",
    "\n",
    "#tamaño \n",
    "fontScale = 0.7\n",
    "\n",
    "#color de la fuente\n",
    "color = (150, 150, 150)\n",
    "\n",
    "#grosor\n",
    "thickness = 1\n",
    "\n",
    "#usamos la funcion 'cv.putText()' que permitirá agregar texto\n",
    "cv.putText(img_interes, text1, org1, font, fontScale,\n",
    "              color, thickness, cv.LINE_AA, False)\n",
    "cv.putText(img_interes, text2, org2, font, fontScale,\n",
    "              color, thickness, cv.LINE_AA, False)\n",
    "cv.putText(img_interes, text3, org3, font, fontScale,\n",
    "              color, thickness, cv.LINE_AA, False)\n",
    "\n",
    "plt.figure(figsize = (10, 7))\n",
    "cv.circle(img_interes, (mid_point, 235), 5, (100, 100, 100), -1);\n",
    "plt.imshow(img_interes, cmap = 'gray')\n",
    "plt.show()"
   ]
  },
  {
   "cell_type": "code",
   "execution_count": null,
   "metadata": {},
   "outputs": [],
   "source": [
    "#Funcion suma normalizada izquierda\n",
    "def sum_izquierda(imagen, valor_punto_medio):\n",
    "    return np.round(np.sum(imagen[:, :valor_punto_medio].sum(axis=0))/(255*240*480), 2)"
   ]
  },
  {
   "cell_type": "code",
   "execution_count": null,
   "metadata": {},
   "outputs": [],
   "source": [
    "#Funcion suma normalizada derecha\n",
    "def sum_derecha(imagen, valor_punto_medio):\n",
    "    return np.round(np.sum(imagen[:, valor_punto_medio:].sum(axis=0))/(255*240*480), 2)"
   ]
  },
  {
   "cell_type": "code",
   "execution_count": null,
   "metadata": {},
   "outputs": [],
   "source": [
    "sum_izquierda(img_interes, mid_point)"
   ]
  },
  {
   "cell_type": "code",
   "execution_count": null,
   "metadata": {},
   "outputs": [],
   "source": [
    "sum_derecha(img_interes, mid_point)"
   ]
  },
  {
   "cell_type": "markdown",
   "metadata": {},
   "source": [
    "## Función para la detección de altos, carros y peatones"
   ]
  },
  {
   "cell_type": "code",
   "execution_count": null,
   "metadata": {},
   "outputs": [],
   "source": [
    "#importando datos haar cascade\n",
    "stop_cascade = cv.CascadeClassifier('datos/Stopsign_HAAR_19Stages.xml')\n",
    "car_cascade = cv.CascadeClassifier('datos/cars.xml')\n",
    "peaton_cascade = cv.CascadeClassifier('datos/haarcascade_fullbody.xml')\n"
   ]
  },
  {
   "cell_type": "code",
   "execution_count": null,
   "metadata": {},
   "outputs": [],
   "source": [
    "#definiendo funcion de deteccion\n",
    "def video_detect(gray, frame):\n",
    "    \n",
    "    altos = stop_cascade.detectMultiScale(gray, 1.12, 5)\n",
    "    autos = car_cascade.detectMultiScale(gray, 1.13, 5)\n",
    "    peaton = peaton_cascade.detectMultiScale(gray, 1.11, 5)\n",
    "\n",
    "    for (x, y, w, h) in autos:\n",
    "\n",
    "        cv.rectangle(frame, (x, y), (x + w, y + h), (213,152,221), 2)\n",
    "        cv.putText(frame, 'Carro', (x, y), 6, 0.8, (213,152,221), 2)\n",
    "\n",
    "        for (x, y, w, h) in altos:\n",
    "\n",
    "             cv.rectangle(frame, (x, y), (x + w, y + h), (76,163,221), 2)\n",
    "             cv.putText(frame, 'Alto', (x, y), 6, 0.8, (76,163,221), 2)\n",
    "\n",
    "             for (x, y, w, h) in peaton:\n",
    "\n",
    "                 cv.rectangle(frame, (x, y), (x + w, y + h), (13,236,175), 2)\n",
    "                 cv.putText(frame, 'Peaton', (x, y), 6, 0.8, (13,236,175), 2)\n",
    "\n",
    "\n",
    "        fr_gray = gray[y:y + h, x:x + w]\n",
    "        fr_color = frame[y:y + h, x:x + w]\n",
    "        \n",
    "    return frame"
   ]
  },
  {
   "cell_type": "markdown",
   "metadata": {},
   "source": [
    "## Función para la detección de semáforos"
   ]
  },
  {
   "cell_type": "markdown",
   "metadata": {},
   "source": [
    "### Tratamiento de imagenes"
   ]
  },
  {
   "cell_type": "code",
   "execution_count": null,
   "metadata": {},
   "outputs": [],
   "source": [
    "def hsv_convert(image):\n",
    "    return cv.cvtColor(image, cv.COLOR_BGR2HSV)"
   ]
  },
  {
   "cell_type": "code",
   "execution_count": null,
   "metadata": {},
   "outputs": [],
   "source": [
    "#definimos una función que retorne la mascara para el color verde\n",
    "def green_finder(image):\n",
    "    \n",
    "    lower_green = np.array([34, 50, 232]) # 39, 50, 83\n",
    "    upper_green = np.array([82, 255, 255])#91, 255, 255\n",
    "    \n",
    "    img_hsv = hsv_convert(image)\n",
    "    mask_green = cv.inRange(img_hsv, lower_green, upper_green)\n",
    "    \n",
    "    return mask_green"
   ]
  },
  {
   "cell_type": "code",
   "execution_count": null,
   "metadata": {},
   "outputs": [],
   "source": [
    "#definimos una función que retorne la mascara para el color amarillo\n",
    "def yellow_finder(image):\n",
    "    \n",
    "    lower_green = np.array([12, 43, 232])\n",
    "    upper_green = np.array([53, 255, 255])\n",
    "\n",
    "    img_hsv = hsv_convert(image)\n",
    "    mask = cv.inRange(img_hsv, lower_green, upper_green)\n",
    "    mask_green = mask\n",
    "    \n",
    "    return mask_green"
   ]
  },
  {
   "cell_type": "code",
   "execution_count": null,
   "metadata": {},
   "outputs": [],
   "source": [
    "#definimos una función que retorne la mascara para el color rojo\n",
    "def red_finder(image):#\n",
    "    lower_red1 = np.array([0,9,237])#0,65,100 older 0, 100, 100 \n",
    "    upper_red1 = np.array([5,255,255]) #5,255,255\n",
    "    lower_red2 = np.array([170,9,237]) #170,100,100\n",
    "    upper_red2 = np.array([180,255,255]) #180,255,255\n",
    "    \n",
    "    img_hsv = hsv_convert(image)#\n",
    "    \n",
    "    mask1 = cv.inRange(img_hsv, lower_red1, upper_red1)\n",
    "    mask2 = cv.inRange(img_hsv, lower_red2, upper_red2)\n",
    "    \n",
    "    mask_red = cv.add(mask1, mask2)\n",
    "    \n",
    "    return mask_red"
   ]
  },
  {
   "cell_type": "markdown",
   "metadata": {},
   "source": [
    "### Circulos"
   ]
  },
  {
   "cell_type": "code",
   "execution_count": null,
   "metadata": {},
   "outputs": [],
   "source": [
    "def circle_finder(img):\n",
    "    circles = cv.HoughCircles(img, cv.HOUGH_GRADIENT, 1, 30, param1 = 50, param2 = 5, minRadius = 0, maxRadius = 30)\n",
    "    return circles"
   ]
  },
  {
   "cell_type": "code",
   "execution_count": null,
   "metadata": {},
   "outputs": [],
   "source": [
    "def print_circle(image, color_mask, label, gamma):\n",
    "    \n",
    "    #Estética de escritura\n",
    "    font = cv.FONT_HERSHEY_SIMPLEX\n",
    "    region = 5\n",
    "    \n",
    "    #Circulos\n",
    "    circles = circle_finder(color_mask)\n",
    "\n",
    "    #Entra si existe un circulo\n",
    "    if circles is not None:\n",
    "        \n",
    "        circles = np.uint16(np.around(circles))\n",
    "        print('In print_circle() color', label)\n",
    "        \n",
    "        #Para cada circulo\n",
    "        for i in circles[0, :]:\n",
    "            pixel_value = 0.0\n",
    "            n = 0.0\n",
    "            check = False\n",
    "            \n",
    "            for j in range(-region, region):\n",
    "                for k in range(-region, region):\n",
    "                    #print('region:', region)\n",
    "                    #print('pixel_value:', pixel_value)\n",
    "                    try:\n",
    "                        pixel_value += color_mask[i[1]+j, i[0]+k]\n",
    "                        \n",
    "                    except:\n",
    "                        print('In print_circle() data in bound')\n",
    "                        \n",
    "                    n += 1\n",
    "\n",
    "            if pixel_value/n > gamma:\n",
    "                print('In print_circle() passed gamma at:', pixel_value/n )\n",
    "                cv.circle(image, (i[0], i[1]), i[2]+10, (0,255,0), 2)\n",
    "                cv.putText(image, label, (i[0]-i[2], i[1]-i[2]-10), font, 1, (0, 255, 0), 2, cv.LINE_AA)\n",
    "    \n",
    "    return cv.cvtColor(image, cv.COLOR_BGR2RGB)"
   ]
  },
  {
   "cell_type": "markdown",
   "metadata": {},
   "source": [
    "# Recopilación de imágenes"
   ]
  },
  {
   "cell_type": "code",
   "execution_count": null,
   "metadata": {},
   "outputs": [],
   "source": [
    "#Captura todas las frames del video\n",
    "vidcap = cv.VideoCapture(filePath)\n",
    "success,image = vidcap.read()\n",
    "count = 0\n",
    "while success:\n",
    "    cv.imwrite(\"all_frames_act3/stop_test_frame%d.jpg\" % count, image)     # save frame as JPEG file      \n",
    "    success,image = vidcap.read()\n",
    "    print('Read a new frame: ', success)\n",
    "    count +=1\n"
   ]
  }
 ],
 "metadata": {
  "colab": {
   "authorship_tag": "ABX9TyOTGyb7/CZHEGuocipFRlKN",
   "name": "SDC11_actividad4_Badillo_Casanova.ipynb",
   "provenance": []
  },
  "kernelspec": {
   "display_name": "Python 3",
   "language": "python",
   "name": "python3"
  },
  "language_info": {
   "codemirror_mode": {
    "name": "ipython",
    "version": 3
   },
   "file_extension": ".py",
   "mimetype": "text/x-python",
   "name": "python",
   "nbconvert_exporter": "python",
   "pygments_lexer": "ipython3",
   "version": "3.8.5"
  }
 },
 "nbformat": 4,
 "nbformat_minor": 1
}
