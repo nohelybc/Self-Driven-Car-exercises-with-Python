{
  "nbformat": 4,
  "nbformat_minor": 0,
  "metadata": {
    "colab": {
      "name": "SDC11_actividad1_Badillo_Casanova.ipynb",
      "provenance": [],
      "toc_visible": true
    },
    "kernelspec": {
      "name": "python3",
      "display_name": "Python 3"
    },
    "accelerator": "GPU"
  },
  "cells": [
    {
      "cell_type": "code",
      "metadata": {
        "id": "h5sovVuJdSiK"
      },
      "source": [
        "import matplotlib.pyplot as plt\n",
        "import numpy as np\n",
        "import cv2 as cv"
      ],
      "execution_count": 2,
      "outputs": []
    },
    {
      "cell_type": "markdown",
      "metadata": {
        "id": "g77rCCavhSR7"
      },
      "source": [
        "# Actividad 1. Algoritmo de Giro"
      ]
    },
    {
      "cell_type": "code",
      "metadata": {
        "id": "JlGIeiT-TYpR"
      },
      "source": [
        "video = cv.VideoCapture(\"/content/SDC_11/videos/carretera_nueva.mp4\")\n",
        "i = 0\n",
        "while(video.isOpened() and i < 3):\n",
        "    ret, frame = video.read()\n",
        "    if ret == False:\n",
        "        break\n",
        "    cv.imwrite('figuras/imagen_' + str(i) + '.jpg', frame)\n",
        "    i += 1\n",
        "video.release()\n",
        "cv.destroyAllWindows()"
      ],
      "execution_count": null,
      "outputs": []
    },
    {
      "cell_type": "markdown",
      "metadata": {
        "id": "qH2K3j6KiFCO"
      },
      "source": [
        "A continuación se le aplica un filtro de binarización al video, dbeido a que la \n",
        "binarización es la que le permite a la librería de OpenCV detectar objetos, ya \n",
        "que gracias a la binarización podemos enforcarnos en el área de interés"
      ]
    },
    {
      "cell_type": "code",
      "metadata": {
        "id": "ciBXOsYChF8j"
      },
      "source": [
        "def binarizacion(imagen):\n",
        "    img = cv.cvtColor(imagen, cv.COLOR_BGR2RGB)\n",
        "    img_gray = cv.cvtColor(img, cv.COLOR_BGR2GRAY)\n",
        "    img_gauss = cv.GaussianBlur(img_gray, (3, 3), 0)\n",
        "    thr, img_thr = cv.threshold(img_gauss, 160, 255, cv.THRESH_BINARY)\n",
        "\n",
        "    alto = img.shape[0]\n",
        "    ancho = img.shape[1]\n",
        "    ratio = 0.2\n",
        "\n",
        "    img_r = cv.resize(img_thr, (480, 240), interpolation = cv.INTER_NEAREST)\n",
        "    return(img_r)"
      ],
      "execution_count": null,
      "outputs": []
    },
    {
      "cell_type": "code",
      "metadata": {
        "id": "zuHyNgr2edki"
      },
      "source": [
        "#Poligono de área de interés\n",
        "pts_poligono = np.array([[135, 150], [350, 150], [380, 238], [115, 238]], np.int32)\n",
        "pts_poligono = pts_poligono.reshape((-1, 1, 2))"
      ],
      "execution_count": null,
      "outputs": []
    },
    {
      "cell_type": "code",
      "metadata": {
        "id": "sV9FcruHeePK"
      },
      "source": [
        "#Funcion de área de interés\n",
        "def area_interes(imagen):\n",
        "    pts1 = np.float32([[135, 150], [350, 150], [115, 238], [380, 238]])\n",
        "    pts2 = np.float32([[0, 0], [480, 0], [0, 240], [480, 240]])\n",
        "\n",
        "    matrix = cv.getPerspectiveTransform(pts1, pts2)\n",
        "    \n",
        "    img_warp = cv.warpPerspective(imagen, matrix, (480, 240))\n",
        "    return (img_warp)"
      ],
      "execution_count": null,
      "outputs": []
    },
    {
      "cell_type": "code",
      "metadata": {
        "id": "QwTtd39Tjxjc"
      },
      "source": [
        "#Función para encontrar el punto medio\n",
        "def punto_medio(imagen):\n",
        "    img_cercana = imagen[220:, :]\n",
        "\n",
        "    suma_columnas = img_cercana.sum(axis = 0)\n",
        "\n",
        "    x_pos = np.arange(len(suma_columnas))\n",
        "    \n",
        "    mid_point = int(np.dot(x_pos, suma_columnas) / np.sum(suma_columnas))\n",
        "    return mid_point"
      ],
      "execution_count": null,
      "outputs": []
    },
    {
      "cell_type": "code",
      "metadata": {
        "id": "7xN605KDj_IO"
      },
      "source": [
        ""
      ],
      "execution_count": null,
      "outputs": []
    },
    {
      "cell_type": "code",
      "metadata": {
        "id": "6Kh7XXAFTWQK"
      },
      "source": [
        ""
      ],
      "execution_count": null,
      "outputs": []
    }
  ]
}