{
 "cells": [
  {
   "cell_type": "code",
   "execution_count": 1,
   "metadata": {
    "id": "h5sovVuJdSiK"
   },
   "outputs": [],
   "source": [
    "import matplotlib.pyplot as plt\n",
    "import numpy as np\n",
    "import cv2 as cv"
   ]
  },
  {
   "cell_type": "markdown",
   "metadata": {
    "id": "g77rCCavhSR7"
   },
   "source": [
    "# Actividad 1. Algoritmo de Giro"
   ]
  },
  {
   "source": [
    "**Hace falta añadir algunos detalles y cambiarle parámetros para el nuevo camino, voy a ponerle el grid al video para poder sacar las coordenadas y que deje de salir el error**"
   ],
   "cell_type": "markdown",
   "metadata": {}
  },
  {
   "cell_type": "code",
   "execution_count": null,
   "metadata": {},
   "outputs": [],
   "source": []
  },
  {
   "cell_type": "code",
   "execution_count": null,
   "metadata": {},
   "outputs": [],
   "source": []
  },
  {
   "cell_type": "code",
   "execution_count": 9,
   "metadata": {},
   "outputs": [],
   "source": [
    "#Definir la función de binarización\n",
    "def binarizacion(imagen):\n",
    "    img = cv.cvtColor(imagen, cv.COLOR_BGR2RGB)\n",
    "    img_gray = cv.cvtColor(img, cv.COLOR_BGR2GRAY)\n",
    "    img_gauss = cv.GaussianBlur(img_gray, (3, 3), 0)\n",
    "    thr, img_thr = cv.threshold(img_gauss, 160, 255, cv.THRESH_BINARY)\n",
    "    alto = img.shape[0]\n",
    "    ancho = img.shape[1]\n",
    "    ratio = 0.2\n",
    "    img_r = cv.resize(img_thr, (480, 240), interpolation = cv.INTER_NEAREST)\n",
    "    return(img_r)"
   ]
  },
  {
   "cell_type": "code",
   "execution_count": 10,
   "metadata": {},
   "outputs": [],
   "source": [
    "#Poligono de área de interés\n",
    "pts_poligono = np.array([[135, 150], [350, 150], [380, 238], [115, 238]], np.int32)\n",
    "pts_poligono = pts_poligono.reshape((-1, 1, 2))"
   ]
  },
  {
   "cell_type": "code",
   "execution_count": 11,
   "metadata": {},
   "outputs": [],
   "source": [
    "#Funcion de área de interés\n",
    "def area_interes(imagen):\n",
    "    pts1 = np.float32([[135, 150], [350, 150], [115, 238], [380, 238]])\n",
    "    pts2 = np.float32([[0, 0], [480, 0], [0, 240], [480, 240]])\n",
    "    matrix = cv.getPerspectiveTransform(pts1, pts2)\n",
    "    img_warp = cv.warpPerspective(imagen, matrix, (480, 240))\n",
    "    return (img_warp)"
   ]
  },
  {
   "cell_type": "code",
   "execution_count": 12,
   "metadata": {},
   "outputs": [],
   "source": [
    "#Función para encontrar el punto medio\n",
    "def punto_medio(imagen):\n",
    "    img_cercana = imagen[220:, :]\n",
    "    suma_columnas = img_cercana.sum(axis = 0)\n",
    "    x_pos = np.arange(len(suma_columnas))\n",
    "    mid_point = int(np.dot(x_pos, suma_columnas) / np.sum(suma_columnas))\n",
    "    return mid_point"
   ]
  },
  {
   "cell_type": "code",
   "execution_count": 13,
   "metadata": {},
   "outputs": [
    {
     "name": "stderr",
     "output_type": "stream",
     "text": [
      "<ipython-input-12-37fcda6eb22e>:6: RuntimeWarning: invalid value encountered in longlong_scalars\n",
      "  mid_point = int(np.dot(x_pos, suma_columnas) / np.sum(suma_columnas))\n"
     ]
    },
    {
     "ename": "ValueError",
     "evalue": "cannot convert float NaN to integer",
     "output_type": "error",
     "traceback": [
      "\u001b[1;31m---------------------------------------------------------------------------\u001b[0m",
      "\u001b[1;31mValueError\u001b[0m                                Traceback (most recent call last)",
      "\u001b[1;32m<ipython-input-13-be11ddeb3e89>\u001b[0m in \u001b[0;36m<module>\u001b[1;34m\u001b[0m\n\u001b[0;32m      3\u001b[0m \u001b[0mimg_bin\u001b[0m \u001b[1;33m=\u001b[0m \u001b[0mbinarizacion\u001b[0m\u001b[1;33m(\u001b[0m\u001b[0mimg\u001b[0m\u001b[1;33m)\u001b[0m\u001b[1;33m\u001b[0m\u001b[1;33m\u001b[0m\u001b[0m\n\u001b[0;32m      4\u001b[0m \u001b[0mimg_interes\u001b[0m \u001b[1;33m=\u001b[0m \u001b[0marea_interes\u001b[0m\u001b[1;33m(\u001b[0m\u001b[0mimg_bin\u001b[0m\u001b[1;33m)\u001b[0m\u001b[1;33m\u001b[0m\u001b[1;33m\u001b[0m\u001b[0m\n\u001b[1;32m----> 5\u001b[1;33m \u001b[0mmid_point\u001b[0m \u001b[1;33m=\u001b[0m \u001b[0mpunto_medio\u001b[0m\u001b[1;33m(\u001b[0m\u001b[0mimg_interes\u001b[0m\u001b[1;33m)\u001b[0m\u001b[1;33m\u001b[0m\u001b[1;33m\u001b[0m\u001b[0m\n\u001b[0m\u001b[0;32m      6\u001b[0m \u001b[1;33m\u001b[0m\u001b[0m\n\u001b[0;32m      7\u001b[0m \u001b[1;31m#textos\u001b[0m\u001b[1;33m\u001b[0m\u001b[1;33m\u001b[0m\u001b[1;33m\u001b[0m\u001b[0m\n",
      "\u001b[1;32m<ipython-input-12-37fcda6eb22e>\u001b[0m in \u001b[0;36mpunto_medio\u001b[1;34m(imagen)\u001b[0m\n\u001b[0;32m      4\u001b[0m     \u001b[0msuma_columnas\u001b[0m \u001b[1;33m=\u001b[0m \u001b[0mimg_cercana\u001b[0m\u001b[1;33m.\u001b[0m\u001b[0msum\u001b[0m\u001b[1;33m(\u001b[0m\u001b[0maxis\u001b[0m \u001b[1;33m=\u001b[0m \u001b[1;36m0\u001b[0m\u001b[1;33m)\u001b[0m\u001b[1;33m\u001b[0m\u001b[1;33m\u001b[0m\u001b[0m\n\u001b[0;32m      5\u001b[0m     \u001b[0mx_pos\u001b[0m \u001b[1;33m=\u001b[0m \u001b[0mnp\u001b[0m\u001b[1;33m.\u001b[0m\u001b[0marange\u001b[0m\u001b[1;33m(\u001b[0m\u001b[0mlen\u001b[0m\u001b[1;33m(\u001b[0m\u001b[0msuma_columnas\u001b[0m\u001b[1;33m)\u001b[0m\u001b[1;33m)\u001b[0m\u001b[1;33m\u001b[0m\u001b[1;33m\u001b[0m\u001b[0m\n\u001b[1;32m----> 6\u001b[1;33m     \u001b[0mmid_point\u001b[0m \u001b[1;33m=\u001b[0m \u001b[0mint\u001b[0m\u001b[1;33m(\u001b[0m\u001b[0mnp\u001b[0m\u001b[1;33m.\u001b[0m\u001b[0mdot\u001b[0m\u001b[1;33m(\u001b[0m\u001b[0mx_pos\u001b[0m\u001b[1;33m,\u001b[0m \u001b[0msuma_columnas\u001b[0m\u001b[1;33m)\u001b[0m \u001b[1;33m/\u001b[0m \u001b[0mnp\u001b[0m\u001b[1;33m.\u001b[0m\u001b[0msum\u001b[0m\u001b[1;33m(\u001b[0m\u001b[0msuma_columnas\u001b[0m\u001b[1;33m)\u001b[0m\u001b[1;33m)\u001b[0m\u001b[1;33m\u001b[0m\u001b[1;33m\u001b[0m\u001b[0m\n\u001b[0m\u001b[0;32m      7\u001b[0m     \u001b[1;32mreturn\u001b[0m \u001b[0mmid_point\u001b[0m\u001b[1;33m\u001b[0m\u001b[1;33m\u001b[0m\u001b[0m\n",
      "\u001b[1;31mValueError\u001b[0m: cannot convert float NaN to integer"
     ]
    }
   ],
   "source": [
    "#Aplicamos todas las funciones\n",
    "img = cv.imread('figuras/imagen_0.jpg')\n",
    "img_bin = binarizacion(img)\n",
    "img_interes = area_interes(img_bin)\n",
    "mid_point = punto_medio(img_interes)\n",
    "\n",
    "#textos\n",
    "text1 = str(0.50)\n",
    "text2 = str(0.50)\n",
    "text3 = 'direccion'\n",
    "\n",
    "#agregamos el tipo de fuente\n",
    "font = cv.FONT_HERSHEY_SIMPLEX\n",
    "\n",
    "#origen de cada texto\n",
    "org1 = (60, 185)\n",
    "org2 = (370, 185)\n",
    "org3 = (200, 100)\n",
    "\n",
    "#tamaño \n",
    "fontScale = 0.7\n",
    "\n",
    "#color de la fuente\n",
    "color = (150, 150, 150)\n",
    "\n",
    "#grosor\n",
    "thickness = 1\n",
    "\n",
    "#usamos la funcion 'cv.putText()' que permitirá agregar texto\n",
    "cv.putText(img_interes, text1, org1, font, fontScale,\n",
    "              color, thickness, cv.LINE_AA, False)\n",
    "cv.putText(img_interes, text2, org2, font, fontScale,\n",
    "              color, thickness, cv.LINE_AA, False)\n",
    "cv.putText(img_interes, text3, org3, font, fontScale,\n",
    "              color, thickness, cv.LINE_AA, False)\n",
    "\n",
    "plt.figure(figsize = (10, 7))\n",
    "cv.circle(img_interes, (mid_point, 235), 5, (100, 100, 100), -1);\n",
    "plt.imshow(img_interes, cmap = 'gray')\n",
    "plt.show()"
   ]
  },
  {
   "cell_type": "code",
   "execution_count": 14,
   "metadata": {},
   "outputs": [],
   "source": [
    "#Funcion suma normalizada izquierda\n",
    "def sum_izquierda(imagen, valor_punto_medio):\n",
    "    return np.round(np.sum(imagen[:, :valor_punto_medio].sum(axis=0))/(255*240*480), 2)"
   ]
  },
  {
   "cell_type": "code",
   "execution_count": 15,
   "metadata": {},
   "outputs": [],
   "source": [
    "#Funcion suma normalizada derecha\n",
    "def sum_derecha(imagen, valor_punto_medio):\n",
    "    return np.round(np.sum(imagen[:, valor_punto_medio:].sum(axis=0))/(255*240*480), 2)"
   ]
  },
  {
   "cell_type": "code",
   "execution_count": 16,
   "metadata": {},
   "outputs": [
    {
     "ename": "NameError",
     "evalue": "name 'mid_point' is not defined",
     "output_type": "error",
     "traceback": [
      "\u001b[1;31m---------------------------------------------------------------------------\u001b[0m",
      "\u001b[1;31mNameError\u001b[0m                                 Traceback (most recent call last)",
      "\u001b[1;32m<ipython-input-16-2b24e697339c>\u001b[0m in \u001b[0;36m<module>\u001b[1;34m\u001b[0m\n\u001b[1;32m----> 1\u001b[1;33m \u001b[0msum_derecha\u001b[0m\u001b[1;33m(\u001b[0m\u001b[0mimg_interes\u001b[0m\u001b[1;33m,\u001b[0m \u001b[0mmid_point\u001b[0m\u001b[1;33m)\u001b[0m\u001b[1;33m\u001b[0m\u001b[1;33m\u001b[0m\u001b[0m\n\u001b[0m",
      "\u001b[1;31mNameError\u001b[0m: name 'mid_point' is not defined"
     ]
    }
   ],
   "source": [
    "sum_derecha(img_interes, mid_point)"
   ]
  },
  {
   "cell_type": "code",
   "execution_count": null,
   "metadata": {},
   "outputs": [],
   "source": [
    "sum_izquierda(img_interes, mid_point)"
   ]
  },
  {
   "cell_type": "code",
   "execution_count": 17,
   "metadata": {},
   "outputs": [],
   "source": [
    "#Implementacion de la dirección de giro en el video \n",
    "import time\n",
    "\n",
    "video = cv.VideoCapture('videos/carretera_nueva.mp4')\n",
    "while(video.isOpened()):\n",
    "    ret, frame = video.read()\n",
    "    if ret:\n",
    "        cv.imshow(\"video\", frame)\n",
    "        img_bin = binarizacion(frame)\n",
    "        cv.polylines(img_bin, [pts_poligono], True, (100, 100, 100))\n",
    "        cv.imshow(\"video binarizado\", img_bin)\n",
    "        img_interes = area_interes(img_bin)\n",
    "        mid_point = punto_medio(img_interes)\n",
    "        valor_sum_izquierda = sum_izquierda(img_interes, mid_point)\n",
    "        valor_sum_derecha = sum_derecha(img_interes, mid_point)\n",
    "        cv.putText(img_interes, str(valor_sum_izquierda), org1, font, fontScale,\n",
    "                   color, thickness, cv.LINE_AA, False)\n",
    "        cv.putText(img_interes, str(valor_sum_derecha), org2, font, fontScale,\n",
    "                   color, thickness, cv.LINE_AA, False)\n",
    "        delta = valor_sum_izquierda - valor_sum_derecha\n",
    "        \n",
    "        if delta > 0.07:\n",
    "            movimiento = \"izquierda\"\n",
    "        elif delta < -0.07:\n",
    "            movimiento = \"derecha\"\n",
    "        else:\n",
    "            movimiento = \"adelante\"\n",
    "        cv.putText(img_interes, movimiento, org3, font, fontScale,\n",
    "                  color, thickness, cv.LINE_AA, False)\n",
    "        cv.circle(img_interes, (mid_point, 235), 5, (100, 100, 100), -1);\n",
    "        cv.imshow(\"video area interes\", img_interes)\n",
    "        time.sleep(0.02)\n",
    "        if cv.waitKey(1) & 0xFF == ord('q'):\n",
    "            break\n",
    "    else:\n",
    "        break\n",
    "video.release()\n",
    "cv.destroyAllWindows()"
   ]
  },
  {
   "cell_type": "code",
   "execution_count": null,
   "metadata": {},
   "outputs": [],
   "source": []
  }
 ],
 "metadata": {
  "accelerator": "GPU",
  "colab": {
   "name": "SDC11_actividad1_Badillo_Casanova.ipynb",
   "provenance": [],
   "toc_visible": true
  },
  "kernelspec": {
   "display_name": "Python 3",
   "language": "python",
   "name": "python3"
  },
  "language_info": {
   "codemirror_mode": {
    "name": "ipython",
    "version": 3
   },
   "file_extension": ".py",
   "mimetype": "text/x-python",
   "name": "python",
   "nbconvert_exporter": "python",
   "pygments_lexer": "ipython3",
   "version": "3.8.3"
  }
 },
 "nbformat": 4,
 "nbformat_minor": 1
}