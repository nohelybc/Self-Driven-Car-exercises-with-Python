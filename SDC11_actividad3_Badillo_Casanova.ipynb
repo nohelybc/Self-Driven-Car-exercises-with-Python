{
 "cells": [
  {
   "cell_type": "markdown",
   "metadata": {
    "id": "zQ1_UP7UfIR3"
   },
   "source": [
    "# Actividad 3. Altos y semáforos en un video"
   ]
  },
  {
   "cell_type": "markdown",
   "metadata": {},
   "source": [
    "# to do\n",
    "\n",
    "Esta actividad realícela en un nuevo notebook\n",
    "• Defina las funciones necesarias para detectar altos y semáforos. Para cada uno agregue su respectiva etiqueta\n",
    "\n",
    "• Utilice la función time.sleep(3) para que cuando se detecte un alto (cualquiera de los dos que aparece) en un área cercana a las llantas del automóvil, se realice una pausa de 3 segundos en el video (solo una vez).\n",
    "\n",
    "• Utilice el video llamado altos_semaforos.mp4 -done @des\n",
    "\n",
    "• Agregar al final de su notebook una explicación detallada de como funciona su código y una conclusión del\n",
    "#ejercicio o puede explicarlo conforme avance en el notebook (con celdas definidas con Markdown)"
   ]
  },
  {
   "cell_type": "code",
   "execution_count": 1,
   "metadata": {},
   "outputs": [],
   "source": [
    "import matplotlib.pyplot as plt\n",
    "import numpy as np\n",
    "import cv2 as cv\n",
    "import pandas as pd\n",
    "import time"
   ]
  },
  {
   "cell_type": "markdown",
   "metadata": {},
   "source": [
    "# Análisis para dev"
   ]
  },
  {
   "cell_type": "code",
   "execution_count": 2,
   "metadata": {},
   "outputs": [],
   "source": [
    "file = 'videos/altos_semaforos.mp4'"
   ]
  },
  {
   "cell_type": "code",
   "execution_count": 3,
   "metadata": {},
   "outputs": [],
   "source": [
    "#dataframe para el análisis de datos\n",
    "d = {'Imagen': [], \n",
    "     'pixel_value/n': [],\n",
    "     'Pass': []}\n",
    "total_circles = pd.DataFrame(d)"
   ]
  },
  {
   "cell_type": "code",
   "execution_count": 4,
   "metadata": {},
   "outputs": [],
   "source": [
    "#cascades\n",
    "stop_cascade = cv.CascadeClassifier('datos/Stopsign_HAAR_19Stages.xml')\n",
    "trafficLight_cascade = cv.CascadeClassifier('datos/TrafficLight_HAAR_16Stages.xml')"
   ]
  },
  {
   "cell_type": "markdown",
   "metadata": {},
   "source": [
    "## Funciones de tratamiento de imagen"
   ]
  },
  {
   "cell_type": "code",
   "execution_count": 5,
   "metadata": {},
   "outputs": [],
   "source": [
    "def hsv_convert(image):\n",
    "    return cv.cvtColor(image, cv.COLOR_BGR2HSV)"
   ]
  },
  {
   "cell_type": "code",
   "execution_count": 6,
   "metadata": {},
   "outputs": [],
   "source": [
    "#definimos una función que retorne la mascara para el color verde\n",
    "def green_finder(image):\n",
    "    \n",
    "    lower_green = np.array([39,50,83])\n",
    "    upper_green = np.array([91,255,255])\n",
    "    \n",
    "    img_hsv = hsv_convert(image)\n",
    "    mask_green = cv.inRange(img_hsv, lower_green, upper_green)\n",
    "    \n",
    "    return mask_green"
   ]
  },
  {
   "cell_type": "code",
   "execution_count": 7,
   "metadata": {},
   "outputs": [],
   "source": [
    "#definimos una función que retorne la mascara para el color amarillo\n",
    "def yellow_finder(image):\n",
    "    \n",
    "    lower_green = np.array([42,73,44])\n",
    "    upper_green = np.array([100,255,255])\n",
    "\n",
    "    img_hsv = hsv_convert(image)\n",
    "    mask = cv.inRange(img_hsv, lower_green, upper_green)\n",
    "    mask_green = mask\n",
    "    \n",
    "    return mask_green"
   ]
  },
  {
   "cell_type": "code",
   "execution_count": 8,
   "metadata": {},
   "outputs": [],
   "source": [
    "#definimos una función que retorne la mascara para el color rojo\n",
    "def red_finder(image):#\n",
    "    lower_red1 = np.array([0,100,100])\n",
    "    upper_red1 = np.array([5,255,255])\n",
    "    lower_red2 = np.array([170,100,100])\n",
    "    upper_red2 = np.array([180,255,255])\n",
    "    \n",
    "    img_hsv = hsv_convert(image)#\n",
    "    \n",
    "    mask1 = cv.inRange(img_hsv, lower_red1, upper_red1)\n",
    "    mask2 = cv.inRange(img_hsv, lower_red2, upper_red2)\n",
    "    \n",
    "    mask_red = cv.add(mask1, mask2)\n",
    "    \n",
    "    return mask_red"
   ]
  },
  {
   "cell_type": "markdown",
   "metadata": {},
   "source": [
    "## Funciones para análisis"
   ]
  },
  {
   "cell_type": "markdown",
   "metadata": {},
   "source": [
    "### Altos"
   ]
  },
  {
   "cell_type": "code",
   "execution_count": 19,
   "metadata": {},
   "outputs": [],
   "source": [
    "def detector_altos(image):\n",
    "    \n",
    "    #convertir a escala de grises la imagen\n",
    "    img_grey = cv.cvtColor(image, cv.COLOR_BGR2GRAY)\n",
    "    \n",
    "    #encontrar altos en las imágenes\n",
    "    alto = stop_cascade.detectMultiScale(img_grey, \n",
    "                                         scaleFactor=1.11,\n",
    "                                         minNeighbors=5,\n",
    "                                         minSize=(30, 30),\n",
    "                                         flags = cv.CASCADE_SCALE_IMAGE)\n",
    "        \n",
    "    return alto"
   ]
  },
  {
   "cell_type": "code",
   "execution_count": 10,
   "metadata": {},
   "outputs": [],
   "source": [
    "def altos_printer(image):\n",
    "    label = 'alto'\n",
    "    \n",
    "    alto = detector_altos(image)\n",
    "    \n",
    "    for (x,y,w,h) in alto: #dibuja un rectangulo por cada alto que encuentre y pone etiqueta\n",
    "        cv.rectangle(image, (x,y), (x+w,y+h), (255,0,0), 2)\n",
    "        Y = y - 15 if y - 15 > 15 else y + 15\n",
    "        cv.putText(image, label, (x, Y), cv.FONT_HERSHEY_SIMPLEX, 0.5, (0, 0, 255), 2, cv.LINE_AA)\n",
    "        \n",
    "#    return cv.cvtColor(image, cv.COLOR_BGR2RGB)    #regresa la imagen dibujada"
   ]
  },
  {
   "cell_type": "markdown",
   "metadata": {},
   "source": [
    "### Semaforos"
   ]
  },
  {
   "cell_type": "code",
   "execution_count": 11,
   "metadata": {},
   "outputs": [],
   "source": [
    "def circle_finder(img):\n",
    "    circles = cv.HoughCircles(img, cv.HOUGH_GRADIENT, 1, 30, param1 = 50, param2 = 5, minRadius = 0, maxRadius = 30)\n",
    "    return circles"
   ]
  },
  {
   "cell_type": "code",
   "execution_count": 12,
   "metadata": {},
   "outputs": [],
   "source": [
    "def print_circle(image, color_mask, label):\n",
    "    \n",
    "    #Estética de escritura\n",
    "    font = cv.FONT_HERSHEY_SIMPLEX\n",
    "    region = 5\n",
    "    \n",
    "    #Circulos\n",
    "    circles = circle_finder(color_mask)\n",
    "\n",
    "    #Entra si existe un circulo\n",
    "    if circles is not None:\n",
    "        circles = np.uint16(np.around(circles))\n",
    "        \n",
    "        #Para cada circulo\n",
    "        for i in circles[0, :]:\n",
    "            pixel_value = 0.0\n",
    "            n = 0.0\n",
    "            check = False\n",
    "            \n",
    "            for j in range(-region, region):\n",
    "                for k in range(-region, region):\n",
    "                    pixel_value += color_mask[i[1]+j, i[0]+k]\n",
    "                    n += 1\n",
    "\n",
    "            \n",
    "            if pixel_value/n > 50:\n",
    "                cv.circle(image, (i[0], i[1]), i[2]+10, (0,255,0), 2)\n",
    "                cv.putText(image, label, (i[0]-i[2], i[1]-i[2]-10), font, 1, (0, 255, 0), 2, cv.LINE_AA)\n",
    "    \n",
    "    return cv.cvtColor(image, cv.COLOR_BGR2RGB)"
   ]
  },
  {
   "cell_type": "code",
   "execution_count": 13,
   "metadata": {},
   "outputs": [],
   "source": [
    "def circle_writer(original_image):\n",
    "        \n",
    "    #print('-----------------------------------------')\n",
    "    \n",
    "    #Encontrar la mascara verde\n",
    "    green_mask = green_finder(original_image)\n",
    "    green_label = 'Verde'\n",
    "    original_image = print_circle(original_image, green_mask, green_label)\n",
    "\n",
    "    \n",
    "    return cv.cvtColor(original_image, cv.COLOR_BGR2RGB)"
   ]
  },
  {
   "cell_type": "code",
   "execution_count": null,
   "metadata": {},
   "outputs": [],
   "source": []
  },
  {
   "cell_type": "markdown",
   "metadata": {},
   "source": [
    "## Video"
   ]
  },
  {
   "cell_type": "code",
   "execution_count": 20,
   "metadata": {},
   "outputs": [
    {
     "name": "stderr",
     "output_type": "stream",
     "text": [
      "<ipython-input-12-c3394edb5f5f>:28: RuntimeWarning: overflow encountered in ushort_scalars\n",
      "  cv.putText(image, label, (i[0]-i[2], i[1]-i[2]-10), font, 1, (0, 255, 0), 2, cv.LINE_AA)\n"
     ]
    },
    {
     "ename": "AttributeError",
     "evalue": "'NoneType' object has no attribute 'shape'",
     "output_type": "error",
     "traceback": [
      "\u001b[0;31m---------------------------------------------------------------------------\u001b[0m",
      "\u001b[0;31mAttributeError\u001b[0m                            Traceback (most recent call last)",
      "\u001b[0;32m<ipython-input-20-2adfb700f459>\u001b[0m in \u001b[0;36m<module>\u001b[0;34m\u001b[0m\n\u001b[1;32m      7\u001b[0m     \u001b[0mtime\u001b[0m\u001b[0;34m.\u001b[0m\u001b[0msleep\u001b[0m\u001b[0;34m(\u001b[0m\u001b[0;36m.0001\u001b[0m\u001b[0;34m)\u001b[0m\u001b[0;34m\u001b[0m\u001b[0;34m\u001b[0m\u001b[0m\n\u001b[1;32m      8\u001b[0m     \u001b[0mret\u001b[0m\u001b[0;34m,\u001b[0m \u001b[0mframe\u001b[0m \u001b[0;34m=\u001b[0m \u001b[0mvideo\u001b[0m\u001b[0;34m.\u001b[0m\u001b[0mread\u001b[0m\u001b[0;34m(\u001b[0m\u001b[0;34m)\u001b[0m\u001b[0;34m\u001b[0m\u001b[0;34m\u001b[0m\u001b[0m\n\u001b[0;32m----> 9\u001b[0;31m     \u001b[0malto\u001b[0m \u001b[0;34m=\u001b[0m \u001b[0mframe\u001b[0m\u001b[0;34m.\u001b[0m\u001b[0mshape\u001b[0m\u001b[0;34m[\u001b[0m\u001b[0;36m0\u001b[0m\u001b[0;34m]\u001b[0m\u001b[0;34m\u001b[0m\u001b[0;34m\u001b[0m\u001b[0m\n\u001b[0m\u001b[1;32m     10\u001b[0m     \u001b[0mancho\u001b[0m \u001b[0;34m=\u001b[0m \u001b[0mframe\u001b[0m\u001b[0;34m.\u001b[0m\u001b[0mshape\u001b[0m\u001b[0;34m[\u001b[0m\u001b[0;36m1\u001b[0m\u001b[0;34m]\u001b[0m\u001b[0;34m\u001b[0m\u001b[0;34m\u001b[0m\u001b[0m\n\u001b[1;32m     11\u001b[0m     \u001b[0mratio\u001b[0m \u001b[0;34m=\u001b[0m \u001b[0;36m0.8\u001b[0m\u001b[0;34m\u001b[0m\u001b[0;34m\u001b[0m\u001b[0m\n",
      "\u001b[0;31mAttributeError\u001b[0m: 'NoneType' object has no attribute 'shape'"
     ]
    }
   ],
   "source": [
    "video = cv.VideoCapture(file)\n",
    "\n",
    "cv.startWindowThread()\n",
    "\n",
    "while(video.isOpened()):\n",
    "    \n",
    "    time.sleep(.0001)\n",
    "    ret, frame = video.read()\n",
    "    alto = frame.shape[0]\n",
    "    ancho = frame.shape[1]\n",
    "    ratio = 0.8\n",
    "    frame = cv.resize(frame, ( int(ancho*ratio) , int(alto*ratio) ), interpolation=cv.INTER_NEAREST )\n",
    "    \n",
    "    if ret:\n",
    "        \n",
    "        #deteccion de semadoro en VERDE\n",
    "        green_mask = green_finder(frame)\n",
    "        #semaforo_verde = print_circle(frame, green_mask, 'Verde')\n",
    "        #RGB_fix = cv.cvtColor(semaforo_verde, cv.COLOR_BGR2RGB)\n",
    "        cv.imshow(\"green_mask\", green_mask)\n",
    "        \n",
    "        #deteccion de semadoro en AMARILLO\n",
    "        yellow_mask = yellow_finder(frame)\n",
    "        #semaforo_amarillo = print_circle(frame, yellow_mask, 'Amarillo')\n",
    "        #RGB_fix = cv.cvtColor(semaforo_amarillo, cv.COLOR_BGR2RGB)\n",
    "        cv.imshow(\"yellow_mask \", yellow_mask)\n",
    "        \n",
    "        #deteccion de semadoro en ROJO\n",
    "        red_mask = red_finder(frame)\n",
    "        semaforo_rojo = print_circle(frame, red_mask, 'Rojo')\n",
    "        RGB_fix = cv.cvtColor(semaforo_rojo, cv.COLOR_BGR2RGB)\n",
    "        cv.imshow(\"red_mask\", RGB_fix)\n",
    "        \n",
    "        #detección de altos\n",
    "        altos_printer(frame)\n",
    "        cv.imshow(\"video con altos\", frame)\n",
    "        \n",
    "        if cv.waitKey(1) & 0xFF == ord('q'):\n",
    "            print('q')\n",
    "            break            \n",
    "            \n",
    "    else:\n",
    "        break\n",
    "\n",
    "cv.waitKey(5000)\n",
    "        \n",
    "cv.waitKey(1)\n",
    "\n",
    "cv.destroyAllWindows()\n",
    "\n",
    "video.release()\n",
    "\n",
    "cv.waitKey(1)"
   ]
  },
  {
   "cell_type": "markdown",
   "metadata": {},
   "source": [
    "# Análsis de algunas imágenes"
   ]
  },
  {
   "cell_type": "code",
   "execution_count": 15,
   "metadata": {},
   "outputs": [
    {
     "name": "stdout",
     "output_type": "stream",
     "text": [
      "Read a new frame:  True\n",
      "Read a new frame:  True\n",
      "Read a new frame:  True\n",
      "Read a new frame:  True\n",
      "Read a new frame:  True\n",
      "Read a new frame:  True\n"
     ]
    }
   ],
   "source": [
    "vidcap = cv.VideoCapture(file)\n",
    "success,image = vidcap.read()\n",
    "count = 0\n",
    "while success:\n",
    "    cv.imwrite(\"figuras/stop_test_frame%d.jpg\" % count, image)     # save frame as JPEG file      \n",
    "    success,image = vidcap.read()\n",
    "    print('Read a new frame: ', success)\n",
    "    count +=1\n",
    "    if count > 5:\n",
    "        break\n"
   ]
  },
  {
   "cell_type": "code",
   "execution_count": 16,
   "metadata": {},
   "outputs": [
    {
     "data": {
      "text/plain": [
       "<matplotlib.image.AxesImage at 0x128e5ebb0>"
      ]
     },
     "execution_count": 16,
     "metadata": {},
     "output_type": "execute_result"
    },
    {
     "data": {
      "image/png": "[encoded data removed]",
      "text/plain": [
       "<Figure size 1224x1224 with 1 Axes>"
      ]
     },
     "metadata": {
      "needs_background": "light"
     },
     "output_type": "display_data"
    }
   ],
   "source": [
    "img_stop_test = cv.imread('figuras/stop_test_frame3.jpg')\n",
    "img_stop_test = red_finder(img_stop_test)\n",
    "RGB_img = cv.cvtColor(img_stop_test, cv.COLOR_BGR2RGB)\n",
    "plt.figure(figsize=(17,17))\n",
    "plt.imshow(RGB_img)"
   ]
  },
  {
   "cell_type": "code",
   "execution_count": null,
   "metadata": {},
   "outputs": [],
   "source": []
  }
 ],
 "metadata": {
  "colab": {
   "authorship_tag": "ABX9TyOTGyb7/CZHEGuocipFRlKN",
   "name": "SDC11_actividad3_Badillo_Casanova.ipynb",
   "provenance": []
  },
  "kernelspec": {
   "display_name": "Python 3",
   "language": "python",
   "name": "python3"
  },
  "language_info": {
   "codemirror_mode": {
    "name": "ipython",
    "version": 3
   },
   "file_extension": ".py",
   "mimetype": "text/x-python",
   "name": "python",
   "nbconvert_exporter": "python",
   "pygments_lexer": "ipython3",
   "version": "3.8.5"
  }
 },
 "nbformat": 4,
 "nbformat_minor": 1
}
